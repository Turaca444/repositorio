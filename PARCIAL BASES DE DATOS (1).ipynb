{
 "cells": [
  {
   "cell_type": "code",
   "execution_count": 2,
   "metadata": {},
   "outputs": [
    {
     "name": "stdout",
     "output_type": "stream",
     "text": [
      "Requirement already satisfied: pymysql in c:\\users\\turac\\anaconda3\\lib\\site-packages (1.0.2)\n",
      "Note: you may need to restart the kernel to use updated packages.\n"
     ]
    }
   ],
   "source": [
    "pip install pymysql"
   ]
  },
  {
   "cell_type": "code",
   "execution_count": 61,
   "metadata": {},
   "outputs": [
    {
     "name": "stdout",
     "output_type": "stream",
     "text": [
      "Conexión correcta\n"
     ]
    }
   ],
   "source": [
    "import pymysql\n",
    "try:\n",
    "\tconexion = pymysql.connect(host='localhost',\n",
    "                             user='root',\n",
    "                             password='',\n",
    "                             db='employees')\n",
    "\tprint(\"Conexión correcta\")\n",
    "except (pymysql.err.OperationalError, pymysql.err.InternalError) as e:\n",
    "\tprint(\"Ocurrió un error al conectar: \", e)"
   ]
  },
  {
   "cell_type": "code",
   "execution_count": 62,
   "metadata": {},
   "outputs": [
    {
     "data": {
      "text/html": [
       "<div>\n",
       "<style scoped>\n",
       "    .dataframe tbody tr th:only-of-type {\n",
       "        vertical-align: middle;\n",
       "    }\n",
       "\n",
       "    .dataframe tbody tr th {\n",
       "        vertical-align: top;\n",
       "    }\n",
       "\n",
       "    .dataframe thead th {\n",
       "        text-align: right;\n",
       "    }\n",
       "</style>\n",
       "<table border=\"1\" class=\"dataframe\">\n",
       "  <thead>\n",
       "    <tr style=\"text-align: right;\">\n",
       "      <th></th>\n",
       "      <th>emp_no</th>\n",
       "      <th>birth_date</th>\n",
       "      <th>first_name</th>\n",
       "      <th>last_name</th>\n",
       "      <th>gender</th>\n",
       "      <th>hire_date</th>\n",
       "    </tr>\n",
       "  </thead>\n",
       "  <tbody>\n",
       "    <tr>\n",
       "      <th>0</th>\n",
       "      <td>1000</td>\n",
       "      <td>1985-01-01</td>\n",
       "      <td>Pepe</td>\n",
       "      <td>Pe</td>\n",
       "      <td>M</td>\n",
       "      <td>1985-01-01</td>\n",
       "    </tr>\n",
       "    <tr>\n",
       "      <th>1</th>\n",
       "      <td>10001</td>\n",
       "      <td>1953-09-02</td>\n",
       "      <td>Georgi</td>\n",
       "      <td>Facello</td>\n",
       "      <td>M</td>\n",
       "      <td>1986-06-26</td>\n",
       "    </tr>\n",
       "    <tr>\n",
       "      <th>2</th>\n",
       "      <td>10002</td>\n",
       "      <td>1964-06-02</td>\n",
       "      <td>Bezalel</td>\n",
       "      <td>Simmel</td>\n",
       "      <td>F</td>\n",
       "      <td>1985-11-21</td>\n",
       "    </tr>\n",
       "    <tr>\n",
       "      <th>3</th>\n",
       "      <td>10003</td>\n",
       "      <td>1959-12-03</td>\n",
       "      <td>Parto</td>\n",
       "      <td>Bamford</td>\n",
       "      <td>M</td>\n",
       "      <td>1986-08-28</td>\n",
       "    </tr>\n",
       "    <tr>\n",
       "      <th>4</th>\n",
       "      <td>10004</td>\n",
       "      <td>1954-05-01</td>\n",
       "      <td>Chirstian</td>\n",
       "      <td>Koblick</td>\n",
       "      <td>M</td>\n",
       "      <td>1986-12-01</td>\n",
       "    </tr>\n",
       "    <tr>\n",
       "      <th>...</th>\n",
       "      <td>...</td>\n",
       "      <td>...</td>\n",
       "      <td>...</td>\n",
       "      <td>...</td>\n",
       "      <td>...</td>\n",
       "      <td>...</td>\n",
       "    </tr>\n",
       "    <tr>\n",
       "      <th>300020</th>\n",
       "      <td>499995</td>\n",
       "      <td>1958-09-24</td>\n",
       "      <td>Dekang</td>\n",
       "      <td>Lichtner</td>\n",
       "      <td>F</td>\n",
       "      <td>1993-01-12</td>\n",
       "    </tr>\n",
       "    <tr>\n",
       "      <th>300021</th>\n",
       "      <td>499996</td>\n",
       "      <td>1953-03-07</td>\n",
       "      <td>Zito</td>\n",
       "      <td>Baaz</td>\n",
       "      <td>M</td>\n",
       "      <td>1990-09-27</td>\n",
       "    </tr>\n",
       "    <tr>\n",
       "      <th>300022</th>\n",
       "      <td>499997</td>\n",
       "      <td>1961-08-03</td>\n",
       "      <td>Berhard</td>\n",
       "      <td>Lenart</td>\n",
       "      <td>M</td>\n",
       "      <td>1986-04-21</td>\n",
       "    </tr>\n",
       "    <tr>\n",
       "      <th>300023</th>\n",
       "      <td>499998</td>\n",
       "      <td>1956-09-05</td>\n",
       "      <td>Patricia</td>\n",
       "      <td>Breugel</td>\n",
       "      <td>M</td>\n",
       "      <td>1993-10-13</td>\n",
       "    </tr>\n",
       "    <tr>\n",
       "      <th>300024</th>\n",
       "      <td>499999</td>\n",
       "      <td>1958-05-01</td>\n",
       "      <td>Sachin</td>\n",
       "      <td>Tsukuda</td>\n",
       "      <td>M</td>\n",
       "      <td>1997-11-30</td>\n",
       "    </tr>\n",
       "  </tbody>\n",
       "</table>\n",
       "<p>300025 rows × 6 columns</p>\n",
       "</div>"
      ],
      "text/plain": [
       "        emp_no  birth_date first_name last_name gender   hire_date\n",
       "0         1000  1985-01-01       Pepe        Pe      M  1985-01-01\n",
       "1        10001  1953-09-02     Georgi   Facello      M  1986-06-26\n",
       "2        10002  1964-06-02    Bezalel    Simmel      F  1985-11-21\n",
       "3        10003  1959-12-03      Parto   Bamford      M  1986-08-28\n",
       "4        10004  1954-05-01  Chirstian   Koblick      M  1986-12-01\n",
       "...        ...         ...        ...       ...    ...         ...\n",
       "300020  499995  1958-09-24     Dekang  Lichtner      F  1993-01-12\n",
       "300021  499996  1953-03-07       Zito      Baaz      M  1990-09-27\n",
       "300022  499997  1961-08-03    Berhard    Lenart      M  1986-04-21\n",
       "300023  499998  1956-09-05   Patricia   Breugel      M  1993-10-13\n",
       "300024  499999  1958-05-01     Sachin   Tsukuda      M  1997-11-30\n",
       "\n",
       "[300025 rows x 6 columns]"
      ]
     },
     "execution_count": 62,
     "metadata": {},
     "output_type": "execute_result"
    }
   ],
   "source": [
    "#EJERCICIO N° 1 - Obtener los datos completos de los empleados.\n",
    "\n",
    "import pandas as pd\n",
    "import numpy as np\n",
    "\n",
    "sql = 'SELECT * FROM employees'\n",
    "df = pd.read_sql_query(sql, con=conexion)\n",
    "df"
   ]
  },
  {
   "cell_type": "code",
   "execution_count": null,
   "metadata": {},
   "outputs": [],
   "source": [
    "#EJERCICIO N°2 - Obtener los datos completos de los departamentos.\n",
    "\n",
    "import pandas as pd\n",
    "import numpy as np\n",
    "\n",
    "sql = 'SELECT * FROM departments, dept_emp'\n",
    "df = pd.read_sql_query(sql, con=conexion)\n",
    "df"
   ]
  },
  {
   "cell_type": "code",
   "execution_count": null,
   "metadata": {},
   "outputs": [],
   "source": [
    "#EJERCICIO N°3 - Obtener la cantidad de empleados de sexo femnino.\n",
    "import pandas as pd\n",
    "import numpy as np\n",
    "\n",
    "sql = \"SELECT * FROM employees WHERE gender = 'F'\"\n",
    "df = pd.read_sql_query(sql, con=conexion)\n",
    "df\n"
   ]
  },
  {
   "cell_type": "code",
   "execution_count": 77,
   "metadata": {},
   "outputs": [
    {
     "ename": "SyntaxError",
     "evalue": "EOL while scanning string literal (<ipython-input-77-2010dd5d53bc>, line 3)",
     "output_type": "error",
     "traceback": [
      "\u001b[1;36m  File \u001b[1;32m\"<ipython-input-77-2010dd5d53bc>\"\u001b[1;36m, line \u001b[1;32m3\u001b[0m\n\u001b[1;33m    sql = \"SELECT distinct e.first_name, e.last_name,de.title, de.from_date, de.to_date from titles de inner join employees e on e.emp_no = de.emp_no where de.title = 'Staff'\u001b[0m\n\u001b[1;37m                                                                                                                                                                               ^\u001b[0m\n\u001b[1;31mSyntaxError\u001b[0m\u001b[1;31m:\u001b[0m EOL while scanning string literal\n"
     ]
    }
   ],
   "source": [
    "#ELJERCICIO N° 4 - Obtener los empleados que son o han sido \"staff\". Recordar que es una consulta multi tablas.\n",
    "\n",
    "sql = \"SELECT distinct e.first_name, e.last_name,de.title, de.from_date, de.to_date from titles de inner join employees e on e.emp_no = de.emp_no where de.title = 'Staff' \n",
    "order by 1\"\n",
    "\n"
   ]
  },
  {
   "cell_type": "code",
   "execution_count": 73,
   "metadata": {},
   "outputs": [
    {
     "ename": "SyntaxError",
     "evalue": "invalid syntax (<ipython-input-73-3da7cfc58aee>, line 3)",
     "output_type": "error",
     "traceback": [
      "\u001b[1;36m  File \u001b[1;32m\"<ipython-input-73-3da7cfc58aee>\"\u001b[1;36m, line \u001b[1;32m3\u001b[0m\n\u001b[1;33m    INSERT INTO departments (dept_no, dept_name) VALUES (\"csdd\", \"Ciencias de Datos\");\u001b[0m\n\u001b[1;37m           ^\u001b[0m\n\u001b[1;31mSyntaxError\u001b[0m\u001b[1;31m:\u001b[0m invalid syntax\n"
     ]
    }
   ],
   "source": [
    "#EJERCICIO N°5 - Agregar el departamento Cienca de Datos.\n",
    "\n",
    "INSERT INTO departments 'dept_name', dept_no VALUES (\"csdd\", \"Ciencias_de_Datos\");\n"
   ]
  },
  {
   "cell_type": "code",
   "execution_count": null,
   "metadata": {},
   "outputs": [],
   "source": [
    "#EJERCICIO N°6 - Agregar el empleado \"Pepe\" y hacerlo jefe (\"manager\") del departamento Cienca de Datos.\n",
    "\n",
    "INSERT INTO `employees` (emp_no, first_name, last_name, gender, hire_date) VALUES (1000, \"Pepe\");"
   ]
  },
  {
   "cell_type": "code",
   "execution_count": 78,
   "metadata": {},
   "outputs": [
    {
     "ename": "SyntaxError",
     "evalue": "invalid syntax (<ipython-input-78-d4426edbd560>, line 2)",
     "output_type": "error",
     "traceback": [
      "\u001b[1;36m  File \u001b[1;32m\"<ipython-input-78-d4426edbd560>\"\u001b[1;36m, line \u001b[1;32m2\u001b[0m\n\u001b[1;33m    DELETE FROM employees WHERE emp_no=1000;\u001b[0m\n\u001b[1;37m           ^\u001b[0m\n\u001b[1;31mSyntaxError\u001b[0m\u001b[1;31m:\u001b[0m invalid syntax\n"
     ]
    }
   ],
   "source": [
    "#EJERCICIO N°7 - Borrar el empleado \"Pepe\".\n",
    "DELETE FROM employees WHERE emp_no=1000;"
   ]
  },
  {
   "cell_type": "code",
   "execution_count": null,
   "metadata": {},
   "outputs": [],
   "source": [
    "#EJERCICO N°8 - Obtener el promedio de salarios por departamento.\n",
    "\n"
   ]
  },
  {
   "cell_type": "code",
   "execution_count": null,
   "metadata": {},
   "outputs": [],
   "source": [
    "#EJERCICO N°9 - Compartir el código en Python para crear en MongoDB una base de datos denominada \"weatherHistory\" y una colección con el mismo nombre. Cargar los datos del archivo csv denominado weatherHistory.csv\n",
    "\n",
    "import pymongo\n",
    "import csv\n",
    "import pandas as pd\n",
    "\n",
    "#CONEXION  DATABASE MONGO\n",
    "client = pymongo.MongoClient('localhost',27017)\n",
    "db = client['weatherHistory']\n",
    "#CREO MYCOLLECTION\n",
    "mycollection = db['weatherHistory']\n",
    "\n",
    "reader = csv.DictReader(open('weatherHistory.csv'))\n",
    "for row in reader:\n",
    "    mycollection.insert_one(row)\n",
    "    print(mycollection)\n"
   ]
  },
  {
   "cell_type": "code",
   "execution_count": null,
   "metadata": {},
   "outputs": [],
   "source": [
    "#EJERCICO N°10 - Compartir el código en en Python que devuelva la cantidad de registros insertados en la colección anterior\n",
    "\n",
    "mycollection.count()\n"
   ]
  }
 ],
 "metadata": {
  "kernelspec": {
   "display_name": "Python 3",
   "language": "python",
   "name": "python3"
  },
  "language_info": {
   "codemirror_mode": {
    "name": "ipython",
    "version": 3
   },
   "file_extension": ".py",
   "mimetype": "text/x-python",
   "name": "python",
   "nbconvert_exporter": "python",
   "pygments_lexer": "ipython3",
   "version": "3.8.5"
  }
 },
 "nbformat": 4,
 "nbformat_minor": 4
}
