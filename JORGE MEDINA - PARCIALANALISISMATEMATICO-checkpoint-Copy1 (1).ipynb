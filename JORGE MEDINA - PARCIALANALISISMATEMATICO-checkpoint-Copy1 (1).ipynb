{
 "cells": [
  {
   "cell_type": "code",
   "execution_count": null,
   "metadata": {},
   "outputs": [],
   "source": [
    " ANÁLISIS MATEMÁTICO - TECNICATURA EN CIENCIA DE DATOS E INTELIGENCIA ARTIFICIAL\n",
    "    \n",
    "    1º PARCIAL\n",
    "    \n",
    "FUNCIONES - LIMITES - DERIVADAS \n",
    "------------------------------------------\n",
    "JORGE SEBASTIAN MEDINA\n"
   ]
  },
  {
   "cell_type": "code",
   "execution_count": null,
   "metadata": {},
   "outputs": [],
   "source": [
    "1.- Dominio, Rango y Regla, a que hacen referencia. Exprese en una definición. Aplique la misma en\n",
    "simbología matemática.\n",
    "\n",
    "DOMINIO: El dominio de una función f: X→Y se define como el conjunto X de todos los elementos x para los cuales la función f asocia\n",
    "        algún elemento perteneciente al conjunto Y de llegada, llamado codominio.\n",
    "        Esto, escrito de manera formal: es una fusión de todos los valores.\n",
    "            \n",
    "        Df={x ϵ X |Ǝ y ϵ Y : f(x) = y }\n",
    "        \n",
    "        Cito Material Bibliografico: https://es.wikipedia.org/wiki/Dominio_de_definici%C3%B3n\n",
    "            \n",
    "RANGO: Dada una función f: A -> B, el elemento de B que corresponde a un cierto elemento a del Dominio A\n",
    "        se denomina la imagen de a, f:(a).\n",
    "        El conjunto de las imágenes de cada elemento del dominio es la imagen de la función f (también rango o recorrido de f).\n",
    "        El conjunto de las imágenes de un subconjunto cualquiera del dominio, X ⊆ A, se denomina la imagen de X. \n",
    "        \n",
    "        Im(f)= f(A) = {b ϵ B: existe a ϵ A tal que f(a)=b}\n",
    "        \n",
    "        Cito Material  Bibliografia:  https://es.wikipedia.org/wiki/Funci%C3%B3n_matem%C3%A1tica         \n",
    "\n",
    "        \n",
    "REGLA: Si se tienen dos conjuntos A y B, se puede crear una regla donde cada elemento de A tenga un único elemento correspondiente en B. \n",
    "       Esta regla se llama función y se representa como f: A -> B, donde f es la regla de asociación, A el conjunto de los elementos a asociar\n",
    "       y B el conjunto de los elementos asociados.  \n",
    "    \n",
    "       Cito Material Bibliografico: https://es.wikiversity.org/wiki/C%C3%A1lculo_y_an%C3%A1lisis_matem%C3%A1tico/Conceptos_b%C3%A1sicos/Funci%C3%B3n_y_dominio\n",
    "        \n",
    "            \n",
    "            "
   ]
  },
  {
   "cell_type": "markdown",
   "metadata": {},
   "source": [
    "2.- Evalue el dominio. Expresar en notación simbólica\n",
    "\n",
    "\n",
    "a) $ f(x) = \\frac{1}{x-10} $\n",
    "\n",
    "\n",
    "b) $ f(t) = \\sqrt{16 - t^2} $\n",
    "\n",
    "\n",
    "c) $ f(x) = \\frac{x - 3}{2} $   $ \\hspace{2cm} $            $ g(x) = \\sqrt{x} $      \n",
    "   Evalue $ (f + g)(x) $"
   ]
  },
  {
   "cell_type": "code",
   "execution_count": null,
   "metadata": {},
   "outputs": [],
   "source": [
    "2.- Evalue el dominio. Expresar en notación simbólica\n",
    "    \n",
    "a) x - 10 ≠ 0 \n",
    "   x ≠ 0 \n",
    "   \n",
    "Dom = {x \\ x ϵ R ∧ x (- ∞ , 10] ∪ [10, ∞ ]} x tal que x pertenece al conjunto de los nùmeros Reales y x con intervalo\n",
    " (abierto - ∞, intervalo cerrado 10] o intervalo [cerrado 10, intervalo abierta - ∞)                     \n",
    "    \n",
    "b)  16 - 𝑡2 ≥ 0\n",
    "    16 ≥ 𝑡2\n",
    "    𝑡 ≥ √16\n",
    "    𝑡 ≥ 4 \n",
    "Dom = {t \\ t ϵ R ∧ t (- ∞, 4] }  t tal que t pertenece al conjunto de los  Reales y t con intervalo abierto en - ∞ hasta 4.                                               \n",
    "                                                  \n",
    "c) (fx + gx)= 𝑥−32/2 +  √x\n",
    "    x ≥ 0 \n",
    "Dom = {x \\ x ϵ R ∧ x ≥ 0}  x tal que x pertenece al conjunto de los Reales y x distinto de cero.\n",
    "      "
   ]
  },
  {
   "cell_type": "code",
   "execution_count": 7,
   "metadata": {},
   "outputs": [
    {
     "data": {
      "image/png": "[encoded data removed]",
      "text/plain": [
       "<Figure size 432x288 with 1 Axes>"
      ]
     },
     "metadata": {},
     "output_type": "display_data"
    }
   ],
   "source": [
    "# 3.- Dado el conjunto A y B, indique cuales corresponden a una función y cuales no:\n",
    "\n",
    "# A : {0, 1, 2, 3, 4, 5, 6, 7, 8, 9} − B : {0, 1, 2, 3, 4, 5, 6, 7, 8, 9}\n",
    "# B : {1, 2, 2, 4, 4, 4, 6, 6, 6, 6} − B : {1, 1, 2, 1, 2, 4, 1, 2, 4, 6}\n",
    "# C : {0, 1, 2, 3, 4, 5, 6, 7, 8, 9} − B : {1, 1, 1, 1, 1, 1, 1, 1, 1, 1}\n",
    "# D : {0, 1, 2, 3, 4, 5, 6, 7, 8, 9} − B : {0, 1, 4, 9, 16, 25, 32, 49, 64, 81}\n",
    "# E : {1, 1, 1, 1, 1, 1, 1, 1, 1, 1} − B : {0, 1, 2, 3, 4, 5, 6, 7, 8, 9}\n",
    "        \n",
    "## Definiciòn de Funciòn: es la realción establecida entre dos conjuntos A y B, que se asigna a cada valor del conjunto A (Variable Independientes),un único valor del segundo conjunto B (Variable Dependiente).\n",
    "\n",
    "## Realizo comentario para que se ejecute el codigo que muestralos conjuntos A y B, en la celda siguiente indico cualcorresponde a una función.\n",
    "\n",
    "import pylab as plt\n",
    "from matplotlib_venn import venn3, venn2_circles\n",
    "\n",
    "v = venn3(subsets=(1,1,0,1,0,0,0))\n",
    "v.get_label_by_id('100').set_text('0,1,2,3,4,5,6,7,8,9')\n",
    "v.get_label_by_id('010').set_text('0,1,2,3,4,5,6,7,8,9')\n",
    "v.get_label_by_id('001').set_text('Función A y B')\n",
    "\n",
    "plt.title(\"FUNCIONES\")\n",
    "plt.show()\n"
   ]
  },
  {
   "cell_type": "code",
   "execution_count": null,
   "metadata": {},
   "outputs": [],
   "source": [
    "A - Es una Función ya que f(x) = x\n",
    "B - No corresponde a una Función\n",
    "C - Es una Función Constante ya que f(x) = k; k ϵ R\n",
    "D - Es una Función Cuadratica f(x) = 𝑥2\n",
    "E - No corresponde a una Función.\n",
    "\n"
   ]
  },
  {
   "cell_type": "code",
   "execution_count": null,
   "metadata": {},
   "outputs": [],
   "source": [
    "4.- Dadas las siguientes expresiones matemáticas, indique cuales corresponden a funciones y cuales no:\n",
    "\n",
    "a) $ f(x) = 2\\pi \\frac{3x^3 + 10x}{x -2} $\n",
    "\n",
    "b) $ 2x + 3y^2 - \\sqrt{x + 10} = 21 $\n",
    "\n",
    "c) $ \\begin{vmatrix} x \\end{vmatrix} = \\left\\{ \\begin{array} \\\\ x & \\mbox{if } x \\geq 0 \\\\ -x & \\mbox{if } x < 0 \\end{array} \\right. $\n",
    "\n",
    "d) $ G(t) = \\left\\{ \\begin{array} \\\\ 1 & \\mbox{if } t \\leq 0 \\\\ t + 1 & \\mbox{if } 0 < t < 2 \\\\ t^2 -1 & \\mbox{if } t > 2 \\end{array} \\right. $\n",
    "\n",
    "Respuestas\n",
    "\n",
    "a) Es una Función discontinua en x=2 \n",
    "\n",
    "b) Es una ecuación, no corresponde a una función.\n",
    "\n",
    "c) Corresponde a una Función.\n",
    "\n",
    "d) Corresponde a una Función segmentada o definidas por partes.\n",
    "\n",
    "\n"
   ]
  },
  {
   "cell_type": "markdown",
   "metadata": {},
   "source": [
    "\n"
   ]
  },
  {
   "cell_type": "markdown",
   "metadata": {},
   "source": [
    "6.-  Límites\n",
    "\n",
    "1.- Encontrar la relación $ \\hspace{1cm} $ $ \\delta(\\epsilon)  $ $\\hspace{1cm}$ que nos permite probar que $ \\hspace{1cm} $ $ lim _{x \\to 1}  \\frac{2x + 1}{x - 3} = -\\frac{3}{2} $\n",
    "\n",
    "Dar la definición de límite.\n",
    "\n",
    "2.- Defina continuidad de una función. Exprese en simbolos.\n",
    "\n",
    "3.- Pruebe que el límte de $ \\hspace{1cm} lim_{x \\to 4} (3x - 7) \\hspace{1cm} $ es 5\n",
    "\n",
    "4.- Pruebe que el límite de $ \\hspace{1cm} lim_{x \\to -2} \\frac{x^2 + 7x + 10}{x +2} \\hspace{1cm} $ es 10\n",
    "\n",
    "5.- De dos (2) ejemplos de discontinuidad."
   ]
  },
  {
   "cell_type": "code",
   "execution_count": 4,
   "metadata": {},
   "outputs": [
    {
     "data": {
      "text/latex": [
       "$\\displaystyle \\lim_{x \\to 1^+}\\left(\\frac{2 x + 1}{x - 3}\\right)$"
      ],
      "text/plain": [
       "     ⎛2⋅x + 1⎞\n",
       " lim ⎜───────⎟\n",
       "x─→1⁺⎝ x - 3 ⎠"
      ]
     },
     "execution_count": 4,
     "metadata": {},
     "output_type": "execute_result"
    }
   ],
   "source": [
    "## 1. -  Repuestas ##\n",
    "\n",
    "from sympy.interactive import printing\n",
    "from sympy import Limit, limit, Symbol, S\n",
    "\n",
    "printing.init_printing(use_latex='mathjax')\n",
    "\n",
    "x=Symbol('x')\n",
    "y=(2*x+1)/(x-3)\n",
    "Limit((2*x+1)/(x-3), x, 1, dir='+')"
   ]
  },
  {
   "cell_type": "code",
   "execution_count": null,
   "metadata": {},
   "outputs": [],
   "source": [
    "2.- DEFINICION DE CONTINUIDAD DE UNA FUNCIÓN - Cito Material Bibliografico https://es.wikipedia.org/wiki/Funci%C3%B3n_continua\n",
    "\n",
    "Definición de continuidad en un punto\n",
    "\n",
    "Una función f es continua en un punto x0 que pertenezca al dominio de la función.\n",
    "si:\n",
    "\n",
    "${\\displaystyle \\forall \\varepsilon >0\\quad \\exists \\delta >0\\;}{\\displaystyle \\forall \\varepsilon >0\\quad \\exists \\delta >0\\;}$\n",
    "tal que para toda x\n",
    "\n",
    "${\\displaystyle |x-x_{0}|<\\delta \\quad \\Rightarrow \\quad |f(x)-f(x_{0})|<\\varepsilon }{\\displaystyle |x-x_{0}|<\\delta \\quad \\Rightarrow \\quad |f(x)-f(x_{0})|<\\varepsilon }$\n",
    "Esto se puede escribir en términos de límites de la siguiente manera; si x0 es punto del dominio de la función que es punto de acumulación del mismo, entonces f es continua en x0 si y solo si ${\\displaystyle \\lim _{x\\to x_{0}}f(x)=f(x_{0})}{\\displaystyle \\lim _{x\\to x_{0}}f(x)=f(x_{0})}$.Cuando x0 es un punto del dominio que no es de acumulación del mismo, es decir, es punto aislado del dominio, se cumple trivialmente la definición, luego toda función es continua en los puntos aislados de su dominio. Por ejemplo, las sucesiones de números reales son un caso de función real de variable real cuyo dominio es el conjunto de los números naturales. Como todos los puntos del dominio de una sucesión son puntos aislados del mismo, se concluye que toda sucesión es una función continua. Por otro lado, no tiene sentido hablar de si una función es o no continua en un punto que no pertenezca al dominio de la misma. Por ejemplo, a función f(x)=1/x es continua en todos los puntos de su dominio. En cero, como no está en el dominio, no podemos hablar ni de si es continua ni de si no lo es. Lo que sí podemos afirmar en este caso es que la función 1/x no puede extenderse con continuidad a cero, pero no podemos afirmar ni que 1/x es continua en 0 ni que 1/x no es continua en 0 (y, por tanto, ni que 1/x es discontinua en 0).\n",
    "\n",
    "\n",
    "\n"
   ]
  },
  {
   "cell_type": "code",
   "execution_count": 3,
   "metadata": {},
   "outputs": [
    {
     "data": {
      "text/latex": [
       "$\\displaystyle -1.5$"
      ],
      "text/plain": [
       "-1.50000000000000"
      ]
     },
     "execution_count": 3,
     "metadata": {},
     "output_type": "execute_result"
    }
   ],
   "source": [
    "Limit((2*x+1)/(x-3), x , 1.00000).doit()\n"
   ]
  },
  {
   "cell_type": "code",
   "execution_count": 58,
   "metadata": {},
   "outputs": [
    {
     "data": {
      "text/latex": [
       "$\\displaystyle -1.5000175000875$"
      ],
      "text/plain": [
       "-1.50001750008750"
      ]
     },
     "execution_count": 58,
     "metadata": {},
     "output_type": "execute_result"
    }
   ],
   "source": [
    "Limit((2*x+1)/(x-3), x , 1.00001).doit()"
   ]
  },
  {
   "cell_type": "code",
   "execution_count": 71,
   "metadata": {},
   "outputs": [
    {
     "name": "stdout",
     "output_type": "stream",
     "text": [
      "El valor tomado en el limite de la función es:  1.5\n",
      "\n",
      "La función f(x) toma el valor cuando x tiende a 1:,  -1.50017500875044\n",
      "\n"
     ]
    }
   ],
   "source": [
    "import math\n",
    "\n",
    "fx=limit(y,x ,1.0001)\n",
    "print(\"El valor tomado en el limite de la función es: \", L)\n",
    "print()\n",
    "epsilon=math.fabs(fx-L)\n",
    "print(\"La función f(x) toma el valor cuando x tiende a 1:, \", fx )\n",
    "print()\n",
    "L=3/2\n"
   ]
  },
  {
   "cell_type": "code",
   "execution_count": 10,
   "metadata": {},
   "outputs": [
    {
     "data": {
      "text/latex": [
       "$\\displaystyle \\lim_{x \\to 4^+}\\left(3 x - 7\\right)$"
      ],
      "text/plain": [
       " lim (3⋅x - 7)\n",
       "x─→4⁺         "
      ]
     },
     "execution_count": 10,
     "metadata": {},
     "output_type": "execute_result"
    }
   ],
   "source": [
    "\n",
    "x=Symbol('x')\n",
    "Limit(3*x-7, x, 4)\n"
   ]
  },
  {
   "cell_type": "code",
   "execution_count": 75,
   "metadata": {},
   "outputs": [
    {
     "data": {
      "text/latex": [
       "$\\displaystyle 5$"
      ],
      "text/plain": [
       "5"
      ]
     },
     "execution_count": 75,
     "metadata": {},
     "output_type": "execute_result"
    }
   ],
   "source": [
    "Limit(3*x-7, x, 4).doit()"
   ]
  },
  {
   "cell_type": "code",
   "execution_count": 14,
   "metadata": {},
   "outputs": [
    {
     "data": {
      "text/latex": [
       "$\\displaystyle \\lim_{x \\to -2^+}\\left(\\frac{x^{2} + 7 x + 10}{x + 2}\\right)$"
      ],
      "text/plain": [
       "      ⎛ 2           ⎞\n",
       "      ⎜x  + 7⋅x + 10⎟\n",
       " lim  ⎜─────────────⎟\n",
       "x─→-2⁺⎝    x + 2    ⎠"
      ]
     },
     "execution_count": 14,
     "metadata": {},
     "output_type": "execute_result"
    }
   ],
   "source": [
    "x=Symbol('x')\n",
    "\n",
    "Limit((x**2+7*x+10)/(x+2),x,-2)\n"
   ]
  },
  {
   "cell_type": "code",
   "execution_count": 15,
   "metadata": {},
   "outputs": [
    {
     "data": {
      "text/latex": [
       "$\\displaystyle 3$"
      ],
      "text/plain": [
       "3"
      ]
     },
     "execution_count": 15,
     "metadata": {},
     "output_type": "execute_result"
    }
   ],
   "source": [
    "Limit((x**2+7*x+10)/(x+2),x,-2).doit()"
   ]
  },
  {
   "cell_type": "markdown",
   "metadata": {},
   "source": [
    "Ejemplos de Discontinuidad\n",
    "\n",
    "\n",
    " $$ a) y=\\cfrac{x^2-2x}{(x-2)} $$ \n",
    "    \n",
    "    \n",
    " $$ b) y = \\begin{cases} x & \\mbox{si }x \\ne 1 \\\\  3 & \\mbox{si }x=1 \\end{cases}$$\n",
    "\n"
   ]
  },
  {
   "cell_type": "markdown",
   "metadata": {},
   "source": []
  },
  {
   "cell_type": "raw",
   "metadata": {},
   "source": []
  },
  {
   "cell_type": "markdown",
   "metadata": {},
   "source": [
    "Cito Material Bibliografico \"https://es.wikipedia.org/wiki/L%C3%ADmite_matem%C3%A1tico\"\n",
    "\n",
    "DEFINICIÓN: \n",
    "\n",
    "Coloquialmente, se dice que el límite de la función f(x) cuando x tiende a c es L , y se escribe:\n",
    "\n",
    "${\\displaystyle \\lim _{x\\to c}\\,\\,f(x)=L}\\lim _{{x\\to c}}\\,\\,f(x)=L$\n",
    "\n",
    "si se puede encontrar para cada ocasión un x suficientemente cerca de c tal que el valor de f(x) sea tan próximo a L como se desee.\n",
    "\n",
    "Para un mayor rigor matemático se utiliza la definición épsilon-delta de límite, que es más estricta y convierte al límite en una gran herramienta del análisis real. Su definición es la siguiente:\n",
    "    \n",
    "\"El límite de f(x) cuando x tiende a c es igual a L si y sólo si para todo número real ε mayor que cero existe un número real δ mayor que cero tal que si la distancia entre x y c es menor que δ, entonces la distancia entre la imagen de x y L es menor que ε unidades\"."
   ]
  },
  {
   "cell_type": "markdown",
   "metadata": {},
   "source": [
    "Derivadas\n",
    "\n",
    "1.- Indicar si c/u de las siguientes proposiciones es verdadera o falsa. Justificar toda respuesta, si es V\n",
    "demostrarla y si es Falsa dar un contraejemplo adecuado.\n",
    "\n",
    "a) Toda función continua en un punto es derivable en ese punto.\n",
    "\n",
    "b) Toda función derivable en un punto es continua en ese punto.\n",
    "\n",
    "2.- Expresar el concepto de derivada de una función. Escribir la definición simbólicamente.\n",
    "\n",
    "3.- Un heladero ha comprobado que, a un precio de 50 pesos la unidad, vende una media de 200 helados\n",
    "diarios. Por cada peso que aumenta el precio, vende dos helados menos al día. Si el coste por unidad es de\n",
    "40 pesos, ¿a qué precio de venta es máximo el beneficio diario que obtiene el heladero? ¿Cual será ese\n",
    "beneficio? Resolver y dejar las fórmulas utilizadas.\n",
    "\n",
    "4.- Hay dos (2) tangentes a la curva que pasan por el punto (2,5). Encuentre las\n",
    "ecuaciones de ambas. Sugerencia: Sea el punto de tangencia, encuentre las dos condiciones que\n",
    "debe satisfacer dicho punto.\n"
   ]
  },
  {
   "cell_type": "markdown",
   "metadata": {},
   "source": [
    "RESPUESTAS DERIVADAS\n",
    "\n",
    "Cito Pagina https://www.vadenumeros.es/segundo/continuidad-derivabilidad.htm#:~:text=Toda%20funci%C3%B3n%20f%20derivable%20en,la%20funci%C3%B3n%20en%20ese%20punto.\n",
    "\n",
    "a. -  Toda Función f derivable en un punto, con la derivada finita, es continua en ese punto en un punto.El recirpoco no es cierto, existe funciones continuas en un punto y no son derivables de él. FALSO\n",
    "\n",
    "Derivadas laterales\n",
    "\n",
    "Por la derecha: $ f'(x_0^+) = lim_{h \\to 0^+}{ \\frac{f(x_0+h)- f(x_0)}{h}} $\n",
    "\n",
    "Por la izquierda: $ f'(x_0^-) = lim_{h \\to 0^-}{ \\frac{f(x_0+h)- f(x_0)}{h}} $\n",
    "\n",
    "Si $ f'(x_0^+) = f'(x_0^-) $ la función es derivable en $ x_0 $\n",
    "\n",
    "Si $ f'(x_0^+) \\neq f'(x_0^-) $ la función no es derivable en $ x_0 $\n",
    "\n",
    "\n",
    "b.- Toda Función derivable en un punto es continua en ese punto.\n",
    "\n",
    "Toda función f derivable en un punto, con derivada finita, es continua en ese punto. Verdadero\n",
    "\n",
    "Continuidad de la función en un punto $ x_0 $\n",
    "\n",
    "1. Existe $ f(x_0) $\n",
    "\n",
    "El punto debe pertenecer al dominio de la función\n",
    "\n",
    "2. Existe el $ lim_{x \\to x_0}{f(x)} $ \n",
    "\n",
    "En funciones definidas en partes, los límites laterales tienen que ser iguales\n",
    "\n",
    "$ lim_{x \\to x_0^-}{f(x)} = lim_{x \\to x_0^+}{f(x)} $\n",
    "\n",
    "3. $f(x_0) = lim_{x \\to x_0}{f(x)} $\n",
    "\n",
    "En funciones definidas en partes\n",
    "\n",
    "$ lim_{x \\to x_0^-}{f(x)} = lim_{x \\to x_0^+}{f(x)} = lim_{x \\to x_0}{f(x)} $\n",
    "\n",
    "Si no se cumple alguna de estas condiciones la función es discontinua y no es derivable en $ x_0 $\n"
   ]
  },
  {
   "cell_type": "markdown",
   "metadata": {},
   "source": [
    "2.-  Expresar el concepto de derivada de una función. Escribir la definición simbólicamente. \n",
    "\n",
    "Cito Pagina  http://recursostic.educacion.es/descartes/web/materiales_didacticos/Derivada_de_una_funcion/Derivada_de_una_funcion.htm\n",
    "\n",
    "La derivada es uno de los conceptos más importante en matemáticas. La derivada es el resultado de un límite y representa la pendiente de la recta tangente a la gráfica de la función en un punto. Pero vayamos por partes.\n",
    "\n",
    "La definición de derivada es la siguiente:\n",
    "                                           $$ f'(x) = lim_{h \\to 0} \\frac{f(x+h)-f(x)}{h} $$\n",
    "\n",
    "\n",
    "\n"
   ]
  },
  {
   "cell_type": "markdown",
   "metadata": {},
   "source": [
    "3.- Un heladero ha comprobado que, a un precio de 50 pesos la unidad, vende una media de 200 helados\n",
    "diarios. Por cada peso que aumenta el precio, vende dos helados menos al día. Si el coste por unidad es de\n",
    "40 pesos, ¿a qué precio de venta es máximo el beneficio diario que obtiene el heladero? ¿Cual será ese\n",
    "beneficio? Resolver y dejar las fórmulas utilizadas.\n",
    "\n",
    "\n",
    "\n",
    "\n"
   ]
  },
  {
   "cell_type": "code",
   "execution_count": 65,
   "metadata": {},
   "outputs": [
    {
     "name": "stdout",
     "output_type": "stream",
     "text": [
      "**********************************************\n",
      "\n",
      "Precio de Venta: [[50 51 52 53 54 55]]\n",
      "\n",
      "*********************************************\n",
      "\n",
      "Unidades Vendidas: [200 198 196 194 192 190]\n",
      "\n",
      "*********************************************\n"
     ]
    }
   ],
   "source": [
    "import numpy as np\n",
    "\n",
    "\n",
    "print(\"**********************************************\")\n",
    "print()\n",
    "x=np.array([50,51,52,53,54,55])\n",
    "x=np.array([x])\n",
    "print (\"Precio de Venta:\", x)\n",
    "print()\n",
    "print(\"*********************************************\")\n",
    "print()\n",
    "y=np.array([200,198,196,194,192,190])\n",
    "print(\"Unidades Vendidas:\",y)\n",
    "print()\n",
    "print(\"*********************************************\")"
   ]
  },
  {
   "cell_type": "code",
   "execution_count": 56,
   "metadata": {},
   "outputs": [
    {
     "data": {
      "image/png": "[encoded data removed]",
      "text/plain": [
       "<Figure size 432x288 with 1 Axes>"
      ]
     },
     "metadata": {
      "needs_background": "light"
     },
     "output_type": "display_data"
    }
   ],
   "source": [
    "import numpy as np #Librería numérica\n",
    "import matplotlib.pyplot as plt # Para crear gráficos con matplotlib\n",
    "#%matplotlib inline # Si quieres hacer estos gráficos dentro de un jupyter notebook\n",
    "\n",
    "from sklearn.linear_model import LinearRegression #Regresión Lineal con scikit-learn\n",
    "\n",
    "\n",
    "plt.title(\"Unidades vendidas --- Precio de Venta\")\n",
    "plt.scatter(x,y)\n",
    "plt.xlabel(\"Precio de venta\")\n",
    "\n",
    "plt.ylabel(\"Unidades vendidas\")\n",
    "plt.axhline(5,color=\"black\")\n",
    "plt.axvline(5,color=\"black\")\n",
    "plt.xlim(48,60)\n",
    "plt.ylim(185,205)\n",
    "plt.show()"
   ]
  },
  {
   "cell_type": "markdown",
   "metadata": {},
   "source": [
    "from sklearn.linear_model import\n",
    "\n",
    "regresionLineal= LinearRegression()\n",
    "regresionLineal.fit(x,y)\n",
    "pendiente=regresionLineal.coef_\n",
    "ordenadaOrigen=regresionLineal.intercept_\n",
    "print(pendiente)\n",
    "print(ordenadaOrigen)"
   ]
  },
  {
   "cell_type": "markdown",
   "metadata": {},
   "source": [
    "4.- Hay dos (2) tangentes a la curva $\\hspace{1cm} y = 4x - x^2 \\hspace{1cm}$ que pasan por el punto (2,5). Encuentre las\n",
    "ecuaciones de ambas. Sugerencia: Sea $(x_ 0, y_ 0) $  el punto de tangencia, encuentre las dos condiciones que\n",
    "debe satisfacer dicho punto.\n"
   ]
  },
  {
   "cell_type": "code",
   "execution_count": null,
   "metadata": {},
   "outputs": [],
   "source": [
    "x=Symbol('x')\n",
    "y=(-x**2+4*x)\n",
    "sp.diff(y,x)"
   ]
  },
  {
   "cell_type": "markdown",
   "metadata": {},
   "source": [
    "Definimos $ m = -2x+4 $ que es la derivada de la parábola lo que nos dá la pendiente de la recta, la valuamos en un punto, ese punto es (x,y) o sea (2,5), por otro lado se calcula la pendiente de la recta que es tangente a ese punto $ m = \\frac{y-y0}{x-x0} $ lo que nos queda $ m = \\frac {5-y0}{2-x0} $ se igualan las pendientes para que queden en función de $ y0 $ y $ x0 $ .\n",
    "\n",
    "$ -2x_0+4 = \\frac {5-y_0}{2-x_0} $\n",
    "\n",
    "$ -4x_0 + 2x_0^2 + 8 -4x_0 = 5 -y_0 $\n",
    "\n",
    "$ y_0 = -2x_0^2 + 8x_0 -8 +5 $\n",
    "\n",
    "Resolviendo els sistema de ecuaciones por igualdad\n",
    "\n",
    "$\n",
    "\\left.\n",
    "\\begin{array}\\\\\n",
    "        y_0 = -2x_0^2 + 8x_0 -3 \\\\\n",
    "        y_0 = -x_0^2 +4x_0 \\\\\n",
    "\\end{array}\n",
    "\\right \\}   \n",
    "$\n",
    "\n",
    "$ -2x_0^2 + 8x_0 -3 = -x_0^2+4x_0 $\n",
    "\n",
    "$ -2x_0^2 + x_0^2 + 8x_0 -4x_0 -3 = 0 $\n",
    "\n",
    "$ -x_0^2 +4x_0 -3 = 0 $\n",
    "\n",
    "Resolviendo la ecuación cuadrática obtenemos las dos raíces $ x'_0 = 1 \\, \\, \\, x_0 = 3 $ y evaluamos en la ecuación cuadratica y obtenemos el $ y_0 = -1^2 + 4·1 = 3  \\, $ y $ \\,  y_0 = -3^2 + 4·3 = 3 $\n",
    "\n",
    "El punto $ y_0 $ es uno solo porque es el punto de cada una de las ramas de la parábola.\n",
    "\n",
    "Estos puntos son  $ a(x'_0,y_0) $ y $ b(x_0,y_0) $ con ellos y la pendiente calculamos las ordenadas al origen de las rectas que pasan por el punto $ p(x,y) = (2,5) $\n",
    "\n",
    "$ m_1= \\frac {y-y_0}{x-x'_0} = \\frac {5-3}{2-1} = 2 $\n",
    "\n",
    "$ b_1=y-m_1·x = 5-2·2 = 1 $\n",
    "\n",
    "$ y_1=2·x_1+1 $ e recta tangente a la parábola que pasa por el punto p(2,5)\n",
    "\n",
    "$ m_2= \\frac {y-y_0}{x-x_0} = \\frac {5-3}{2-3} = -2 $\n",
    "\n",
    "$ b_2=y-m_2·x = 5-(-2)·2 = 9 $\n",
    "\n",
    "$ y_2=-2·x_2+9 $  Recta tangente a la parábola que pasa por el punto p(2,5)"
   ]
  },
  {
   "cell_type": "code",
   "execution_count": 82,
   "metadata": {},
   "outputs": [],
   "source": [
    "x=np.linspace(-10,10,100)\n",
    "def y(x):\n",
    "    return (-x**2+4*x)\n",
    "def y1(x):\n",
    "    return (2*x+1)\n",
    "def y2(x):\n",
    "    return (-2*x+9)"
   ]
  },
  {
   "cell_type": "code",
   "execution_count": 96,
   "metadata": {},
   "outputs": [
    {
     "data": {
      "image/png": "[encoded data removed]",
      "text/plain": [
       "<Figure size 432x288 with 1 Axes>"
      ]
     },
     "metadata": {
      "needs_background": "light"
     },
     "output_type": "display_data"
    }
   ],
   "source": [
    "plt.title(\"Parábola y rectas tangentes que pasan por p(2,5)\")\n",
    "plt.plot(x,[y(i) for i in x])\n",
    "plt.plot(x,[y1(i) for i in x])\n",
    "plt.plot(x,[y2(i) for i in x])\n",
    "plt.axhline(0,color=\"blue\")\n",
    "plt.axvline(0,color=\"blue\")\n",
    "plt.xlim(-1.5,5.0)\n",
    "plt.ylim(-2.0,10.0)\n",
    "plt.scatter(2,5,color=\"blue\")\n",
    "plt.scatter(1,3,color=\"blue\" )\n",
    "plt.scatter(3,3,color=\"blue\")\n",
    "plt.show()"
   ]
  },
  {
   "cell_type": "markdown",
   "metadata": {},
   "source": [
    "$ y_1=2·x_1+1 $\n",
    "\n",
    "$ y_2=-2·x_2+9 $"
   ]
  },
  {
   "cell_type": "markdown",
   "metadata": {},
   "source": [
    "5.- Resolver las siguientes Derivadas:\n",
    "\n",
    "a) $ y= \\frac{2}{x} - \\frac{1}{x^2} $ \n",
    "\n",
    "b) $ y = (x^2 + 17)(x^3 - 3x + 1) $\n",
    "\n",
    "c) $ f(x) = \\left\\{\n",
    "            \\begin{array} \\\\ \n",
    "             2x^2 + 1 & \\mbox{if } x \\leq 1 \\\\    \n",
    "             x + 2 & \\mbox{if } x > 1 \\end{array} \\right. $ \n",
    "    \n",
    "d) $ y = x^2 sen(x)$"
   ]
  },
  {
   "cell_type": "markdown",
   "metadata": {},
   "source": [
    "Resolución Derivadas\n",
    "\n",
    "a) $ y= \\frac{2}{x} - \\frac{1}{x^2} $"
   ]
  },
  {
   "cell_type": "code",
   "execution_count": null,
   "metadata": {},
   "outputs": [],
   "source": []
  }
 ],
 "metadata": {
  "kernelspec": {
   "display_name": "Python 3",
   "language": "python",
   "name": "python3"
  },
  "language_info": {
   "codemirror_mode": {
    "name": "ipython",
    "version": 3
   },
   "file_extension": ".py",
   "mimetype": "text/x-python",
   "name": "python",
   "nbconvert_exporter": "python",
   "pygments_lexer": "ipython3",
   "version": "3.8.5"
  }
 },
 "nbformat": 4,
 "nbformat_minor": 4
}
